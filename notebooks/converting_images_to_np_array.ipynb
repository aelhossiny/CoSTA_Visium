{
 "cells": [
  {
   "cell_type": "markdown",
   "id": "625b9033-6a17-4054-b512-cea48d1972f4",
   "metadata": {},
   "source": [
    "In this notebook, we're converting gene expression images to arrays for further processing using the model. The images imported here were generated using `creating_gene_exp_images.Rmd` notebook"
   ]
  },
  {
   "cell_type": "markdown",
   "id": "dc3e288f-23b9-48eb-a2b6-2e4a7d8487b5",
   "metadata": {},
   "source": [
    "# Importing modules"
   ]
  },
  {
   "cell_type": "code",
   "execution_count": 1,
   "id": "f85cde5c-65c7-4791-a18b-150092238e1c",
   "metadata": {},
   "outputs": [],
   "source": [
    "from PIL import Image\n",
    "import numpy as np\n",
    "from os import listdir\n",
    "from os.path import isfile, join"
   ]
  },
  {
   "cell_type": "markdown",
   "id": "70fa7c92-9631-44ee-bd55-a8c2c39587f4",
   "metadata": {},
   "source": [
    "# Setting Parameters"
   ]
  },
  {
   "cell_type": "markdown",
   "id": "6a05a5f5-411d-4227-9e26-12570f1ee491",
   "metadata": {},
   "source": [
    "* `h,w` parameters define the image resolution"
   ]
  },
  {
   "cell_type": "code",
   "execution_count": 2,
   "id": "1801d9c2-9556-4858-9cd0-cea23358f609",
   "metadata": {},
   "outputs": [],
   "source": [
    "datasets_dir = \"../results/HVGeneExpImgs/\"\n",
    "datasets = listdir(datasets_dir)\n",
    "output_dir = \"../results/HVGeneExpArrays_85/\"\n",
    "h, w = 85, 85"
   ]
  },
  {
   "cell_type": "markdown",
   "id": "fc908323-88c3-4daa-98ac-09468506b41a",
   "metadata": {},
   "source": [
    "# Creating gene expression arrays"
   ]
  },
  {
   "cell_type": "code",
   "execution_count": 3,
   "id": "2a26bccb-964e-49a9-8c12-0a48097c6de9",
   "metadata": {
    "tags": []
   },
   "outputs": [],
   "source": [
    "for dataset in datasets:\n",
    "    dataset_dir = join(datasets_dir,dataset)\n",
    "    files_list = [join(dataset_dir,f) for f in listdir(dataset_dir) if isfile(join(dataset_dir, f))]\n",
    "    dataset_array = np.empty(shape = (len(files_list),h,w))\n",
    "    for i,file in enumerate(files_list):\n",
    "        img = Image.open(file).convert('L').resize((h,w)) #opening image, resizing it and converting to grayscale\n",
    "        img_array = np.asarray(img) #converting image to array\n",
    "        dataset_array[i] = img_array #appending array to dataset\n",
    "        # plt.imshow(Image.fromarray(dataset_array[i]))\n",
    "    np.save(arr= dataset_array, file= f\"{output_dir}{dataset}.npy\")"
   ]
  }
 ],
 "metadata": {
  "kernelspec": {
   "display_name": "Python 3 (ipykernel)",
   "language": "python",
   "name": "python3"
  },
  "language_info": {
   "codemirror_mode": {
    "name": "ipython",
    "version": 3
   },
   "file_extension": ".py",
   "mimetype": "text/x-python",
   "name": "python",
   "nbconvert_exporter": "python",
   "pygments_lexer": "ipython3",
   "version": "3.8.12"
  }
 },
 "nbformat": 4,
 "nbformat_minor": 5
}
